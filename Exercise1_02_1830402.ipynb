{
 "cells": [
  {
   "cell_type": "markdown",
   "metadata": {},
   "source": [
    "# Exercise 1.02: Creating an AI with Random Behavior for the Tic-Tac-Toe Game\n",
    "\n",
    "In this exercise, we'll create a framework for the tic-tac-toe game for experimentation. We will be modeling the game on the assumption that the AI player always starts the game. You will create a function that prints your internal representation, allows your opponent to enter a move randomly, and determines whether a player has won."
   ]
  },
  {
   "cell_type": "markdown",
   "metadata": {},
   "source": [
    "1.- We will import the choice function from the random library:"
   ]
  },
  {
   "cell_type": "code",
   "execution_count": 1,
   "metadata": {},
   "outputs": [],
   "source": [
    "from random import choice"
   ]
  },
  {
   "cell_type": "markdown",
   "metadata": {},
   "source": [
    "2.- Model the nine cells in a simple string.\n",
    "\n",
    "  > **Note**  \n",
    "  > A nine-character long Python string stores these cells in the following order: `123456789`. Let's determine the index triples that must contain matching signs so that a player wins the game"
   ]
  },
  {
   "cell_type": "code",
   "execution_count": 2,
   "metadata": {},
   "outputs": [],
   "source": [
    "combos_index = [ \n",
    "    [0, 1, 2],\n",
    "    [0, 3, 6],\n",
    "    [0, 4, 8],\n",
    "    [1, 4, 7],\n",
    "    [2, 4, 6],\n",
    "    [2, 5, 8],\n",
    "    [3, 4, 5],\n",
    "    [6, 7, 8]\n",
    "]"
   ]
  },
  {
   "cell_type": "markdown",
   "metadata": {},
   "source": [
    "3.- Define the sign constants for empty cells, the AI, and the opponent player"
   ]
  },
  {
   "cell_type": "code",
   "execution_count": 3,
   "metadata": {},
   "outputs": [],
   "source": [
    "vacio = '-'\n",
    "IA = 'O'\n",
    "yo = 'X'"
   ]
  },
  {
   "cell_type": "markdown",
   "metadata": {},
   "source": [
    "4.- Create a function that prints a board.\n",
    "\n",
    "  > add an empty row before and after the board so that we can easily read the game state"
   ]
  },
  {
   "cell_type": "code",
   "execution_count": 4,
   "metadata": {},
   "outputs": [],
   "source": [
    "def imprimir(tablero):\n",
    "    print(f'\\n{\" \".join(tablero[:3])}\\n{\" \".join(tablero[3:6])}\\n{\" \".join(tablero[6:])}\\n')"
   ]
  },
  {
   "cell_type": "markdown",
   "metadata": {},
   "source": [
    "5.- Describe a move of the human player.\n",
    "\n",
    "  > **Note**  \n",
    "  > The input arguments are the boards, the row numbers from $1$ to $3$, and the column numbers from $1$ to $3$. The return value of this function is a board containing the new move"
   ]
  },
  {
   "cell_type": "code",
   "execution_count": 5,
   "metadata": {},
   "outputs": [],
   "source": [
    "def moverJugador(tablero, fila, columna):\n",
    "    index = 3 * (fila - 1) + (columna - 1)\n",
    "    if tablero[index] == vacio:\n",
    "        tablero[index] = yo\n",
    "    \n",
    "    return tablero"
   ]
  },
  {
   "cell_type": "markdown",
   "metadata": {},
   "source": [
    "6.- Define a random move on the part of the AI player. Generate all possible moves defining the  `all_moves_from_board` function, and then select a random move from the list of possible moves\n",
    "\n",
    "  >**Hints**  \n",
    "  >Defined a function called all_moves_from_board that goes through all the indexes on the board and checks whether they are empty (`v == EMPTY_SIGN`). If that's the case, this means that the move can be played and that the index has been added to a list of moves (`move_list`). Finally, we defined the `ai_move` function in order to randomly let the AI choose an index that is equal to a move in the game."
   ]
  },
  {
   "cell_type": "code",
   "execution_count": 6,
   "metadata": {},
   "outputs": [],
   "source": [
    "def movimientos(tablero):\n",
    "    move_list = list()\n",
    "    \n",
    "    for index in range(len(tablero)):\n",
    "        if tablero[index] == vacio:\n",
    "            move_list.append(index)\n",
    "            \n",
    "    return move_list\n",
    "\n",
    "\n",
    "def ia_mov(tablero):\n",
    "    tablero[choice(movimientos(tablero))] = IA\n",
    "    \n",
    "    return tablero"
   ]
  },
  {
   "cell_type": "markdown",
   "metadata": {},
   "source": [
    "7.- Determine whether a player has won the game.\n",
    "\n",
    "  > **Hints**  \n",
    "  > Define the `game_won_by` function, which checks whether the board contains a combo of three identical indexes from the `combo_indices` variable to end the game."
   ]
  },
  {
   "cell_type": "code",
   "execution_count": 7,
   "metadata": {},
   "outputs": [],
   "source": [
    "def ganarJuego(tablero):\n",
    "    for combo_index in combos_index:\n",
    "        if tablero[combo_index[0]] == tablero[combo_index[1]] == tablero[combo_index[2]] and tablero[combo_index[0]] != vacio:\n",
    "            return tablero[combo_index[0]]\n",
    " \n",
    "    return vacio"
   ]
  },
  {
   "cell_type": "markdown",
   "metadata": {},
   "source": [
    "8.- Finally, create a game loop so that we can test the interaction between the computer player and the human player.\n",
    "\n",
    "  > **Hints**  \n",
    "  >  * Conduct a brute-force search.\n",
    "  >  * Defined the function, which can be broken down into various parts. The first part is to initialize the board and fill it with empty signs (`board = EMPTY_SIGN * 9`). Then, we create a counter of the empty cell, which will help us to create a loop and determine the AI's turn.The second part is to create a function for the player and the AI engine to play the game against each other. As soon as one player makes a move, the `empty_cell_count` variable will decrease by $1$. The loop will keep going until either the `game_won_by` function finds a winner or there are no more possible moves on the board."
   ]
  },
  {
   "cell_type": "code",
   "execution_count": 8,
   "metadata": {},
   "outputs": [],
   "source": [
    "def game_loop():\n",
    "    tablero = [vacio for _ in range(0, 9)]\n",
    "    empty_cell_count = 9\n",
    "    game_ended = False\n",
    "    \n",
    "    while empty_cell_count > 0 and  not game_ended:\n",
    "        if empty_cell_count % 2 == 0:\n",
    "            tablero = ia_mov(tablero)\n",
    "        else:\n",
    "            fila = int(input('Fila: '))\n",
    "            columna = int(input('Columna: '))\n",
    "            tablero = moverJugador(tablero, fila, columna)\n",
    "            \n",
    "        imprimir(tablero)\n",
    "        \n",
    "        # Actualización de condiciones\n",
    "        if ganarJuego(tablero) != vacio:\n",
    "            game_ended = True\n",
    "        \n",
    "        empty_cell_count = tablero.count(vacio)"
   ]
  },
  {
   "cell_type": "markdown",
   "metadata": {},
   "source": [
    "9.- Use the `game_loop` function to run the game"
   ]
  },
  {
   "cell_type": "code",
   "execution_count": 9,
   "metadata": {},
   "outputs": [
    {
     "name": "stdout",
     "output_type": "stream",
     "text": [
      "Fila: 3\n",
      "Columna: 3\n",
      "\n",
      "- - -\n",
      "- - -\n",
      "- - X\n",
      "\n",
      "\n",
      "- - O\n",
      "- - -\n",
      "- - X\n",
      "\n",
      "Fila: 1\n",
      "Columna: 1\n",
      "\n",
      "X - O\n",
      "- - -\n",
      "- - X\n",
      "\n",
      "\n",
      "X - O\n",
      "- O -\n",
      "- - X\n",
      "\n",
      "Fila: 3\n",
      "Columna: 1\n",
      "\n",
      "X - O\n",
      "- O -\n",
      "X - X\n",
      "\n",
      "\n",
      "X - O\n",
      "- O -\n",
      "X O X\n",
      "\n",
      "Fila: 2\n",
      "Columna: 1\n",
      "\n",
      "X - O\n",
      "X O -\n",
      "X O X\n",
      "\n"
     ]
    }
   ],
   "source": [
    "game_loop()"
   ]
  }
 ],
 "metadata": {
  "kernelspec": {
   "display_name": "Python 3",
   "language": "python",
   "name": "python3"
  },
  "language_info": {
   "codemirror_mode": {
    "name": "ipython",
    "version": 3
   },
   "file_extension": ".py",
   "mimetype": "text/x-python",
   "name": "python",
   "nbconvert_exporter": "python",
   "pygments_lexer": "ipython3",
   "version": "3.8.5"
  }
 },
 "nbformat": 4,
 "nbformat_minor": 4
}
